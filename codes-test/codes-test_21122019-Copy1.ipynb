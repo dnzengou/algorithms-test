{
 "cells": [
  {
   "cell_type": "markdown",
   "metadata": {},
   "source": [
    "# Test"
   ]
  },
  {
   "cell_type": "markdown",
   "metadata": {},
   "source": [
    "## Instructions"
   ]
  },
  {
   "cell_type": "markdown",
   "metadata": {},
   "source": [
    "### Programmation\n",
    "\n",
    "1. Écrivez une fonction pour inverser une chaîne de caractères.\n",
    "2. Écrivez une fonction pour calculer le N ième nombre de Fibonnaci.\n",
    "3. Affichez à l’écran la table de multiplication jusqu’à 12 x 12.\n",
    "4. Écrivez une fonction qui additionne les entiers provenant d’un fichier texte, un entier par ligne.\n",
    "5. Écrivez une fonction qui affiche les nombres impairs de 1 à 99.\n",
    "6. Trouvez le plus grand entier dans un vecteur d’entiers.\n",
    "7. Formatez une valeur RGB (trois nombres d’un octet) en chaîne hexadécimale de 6 chiffres.\n",
    "8. Écrivez un programme qui affiche les nombres de 1 à 100. Pour les multiples de 3, afficher “Flash” plutôt que le nombre. Pour les multiples de 5, remplacer le nombre par “Thunder”. Enfin, pour les multiples de 3 et de 5, veuillez remplacer le nombre par “FlashThunder”.\n",
    "9. Considérant le contexte d’une application IoT (internet des objets), veuillez rédiger un micro-programme Javascript (un ou plusieurs fonctions) permettant de recevoir de manière asynchrone les données d’un capteur de température et de les afficher en sortie aux cinq (5) secondes. La fonction d'interrogation de la température est au format function getTemp(callback) { //lit la température du capteur et, une fois récupérée, //appelle la callback avec la valeur.}\n",
    "\n",
    "\n",
    "### Conception orientée-objet\n",
    "\n",
    "1. Concevez un ensemble de carte à jouer qui peut être utilisé pour différents jeux de cartes.\n",
    "2. Modélisez le monde animal en tant que classes, pour utilisation dans un programme de zoo virtuel.\n",
    "3. Créez un modèle objet pour représenter un système de fichiers (filesystem).\n",
    "4. Concevez une représentation orientée-objet qui modélise HTML.\n",
    "\n",
    "\n",
    "### Script et expressions régulières\n",
    "\n",
    "1. Considérant que nous avons 50 000 fichiers HTML contenus dans une arborescence Unix, sous un répertoire s’appelant ‘/website’. Nous avons deux (2) jours pour obtenir la liste des chemins de chaque fichier HTML contenant des numéros de téléphone, selon les deux (2) formats suivants: (999) 999-9999 and 999-999-9999. Écrivez l’algorithme qui permettra de fournir la liste.\n",
    "\n",
    "\n",
    "### Structures de données\n",
    "\n",
    "1. Quelles sont les structures de données les plus courantes, par exemple dans java.util?\n",
    "2. Quand serait-il approprié d’utiliser une liste chaînée plutôt qu’un vecteur?\n",
    "3. Pouvez-vous implémenter une Map avec un arbre? Avec une liste? Élaborez votre réponse.\n",
    "4. Décrivez comment afficher les noeuds d’un arbre par niveau (1er niveau, 2e niveau, 3e niveau, etc.).\n",
    "5. Quel est le pire cas de performance d’insertion dans un Hashtable? Dans un arbre binaire? Élaborez.\n",
    "6. Expliquez de quelle façon vous pouvez implémenter un file prioritaire (priority queue).\n",
    "\n",
    "\n",
    "### Bits et Octets\n",
    "\n",
    "1. Expliquez comment déterminer si le bit le plus significatif est affecté dans un octet.\n",
    "2. Écrivez une fonction qui compte le nombre de bits à 1 dans un entier qui pourrait, par exemple, avoir la signature int count1Bits(int x)\n",
    "3. Décrivez une fonction prenant en entrée un entier et qui retourne Vrai si le schéma de bits est le même à l’inverse (un palindrome). La fonction pourrait par exemple porter la signature bool isPalindrome(int x).\n",
    "\n",
    "\n",
    "### Design web\n",
    "\n",
    "1. Expliquez la pertinence et l’importance du système à 12 colonnes dans la conception d’applications web modernes.\n",
    "2. Dans CSS3, expliquez la différence entre utiliser max-width et max-device-width dans les media queries.UX\n",
    "1. Nommez trois (3) éléments importants à considérer en termes de UX lors de la conception d’un formulaire de paiement en ligne par carte de crédit. Élaborez.\n",
    "2. Veuillez recommander deux (2) améliorations UX à cette interface mobile.\n",
    "\n",
    "\n",
    "### Développement web\n",
    "\n",
    "1. Expliquez, en vos propres mots, ce qu’est une application Javascript et son fonctionnement.\n",
    "2. Que sont node.js, ember.js et angular.js, pour en nommer que quelques-uns?\n",
    "3. Quel est l’avantage principal d’utiliser JSON dans une application web? Expliquez pourquoi.\n",
    "\n",
    "\n",
    "----------------------------------------------------------------------------------------------\n"
   ]
  },
  {
   "cell_type": "markdown",
   "metadata": {},
   "source": [
    "## Programmation"
   ]
  },
  {
   "cell_type": "code",
   "execution_count": 11,
   "metadata": {},
   "outputs": [
    {
     "name": "stdout",
     "output_type": "stream",
     "text": [
      "La chaîne de caractères initiale est:Bonjour\n",
      "La chaîne de caractères inversée est:ruojnoB\n"
     ]
    }
   ],
   "source": [
    "# Fonction pour inverser une chaîne de caractères\n",
    "\n",
    "def inverser(c):\n",
    "    str = \"\"\n",
    "    for i in c:\n",
    "        str = i + str\n",
    "    return str\n",
    "\n",
    "c = \"Bonjour\"\n",
    "print(\"La chaîne de caractères initiale est:\", end =\"\")\n",
    "print(c)\n",
    "\n",
    "print(\"La chaîne de caractères inversée est:\", end =\"\")\n",
    "print(inverser(c))"
   ]
  },
  {
   "cell_type": "code",
   "execution_count": 14,
   "metadata": {},
   "outputs": [
    {
     "name": "stdout",
     "output_type": "stream",
     "text": [
      "Ecrivez une chaîne de caractères initiale: bonjour\n",
      "bonjour\n",
      "La chaîne de caractères inversée est: ruojnob\n"
     ]
    }
   ],
   "source": [
    "c = input(\"Ecrivez une chaîne de caractères à inverser: \")\n",
    "if c == input(c):\n",
    "    def inverser(c):\n",
    "        str = \"\"\n",
    "        for i in c:\n",
    "            str = i + str\n",
    "        return str # rend la chaine de caractères à inverser; ensuite presse entrer\n",
    "\n",
    "#c = \"Bonjour\"\n",
    "print(\"La chaîne de caractères inversée est: \" + inverser(c))\n"
   ]
  },
  {
   "cell_type": "code",
   "execution_count": null,
   "metadata": {},
   "outputs": [],
   "source": [
    "c1 = \"Maison\"\n",
    "ch2 = \"\"#chaine inversée\n",
    " \n",
    "for lettre in ch1:#on ajoute la lettre en premier\n",
    " \n",
    "print ch2\n",
    "\n",
    "c = input(\"Ecrivez une chaîne de caractères initiale:\")\n",
    "if c == input(c):\n",
    "    def inverser(c):\n",
    "        str = \"\"\n",
    "        for i in c:\n",
    "            str = i + str\n",
    "        return str\n",
    "\n",
    "#c = \"Bonjour\"\n",
    "print(\"La chaîne de caractères inversée est:\" + inverser(c))\n",
    "\n",
    "#print(\"La chaîne de caractères inversée est:\", end =\"\")\n",
    "#print(inverser(c))"
   ]
  },
  {
   "cell_type": "code",
   "execution_count": null,
   "metadata": {},
   "outputs": [],
   "source": [
    "# fonction pour calculer le N ième nombre de Fibonnaci."
   ]
  },
  {
   "cell_type": "code",
   "execution_count": null,
   "metadata": {},
   "outputs": [],
   "source": []
  },
  {
   "cell_type": "code",
   "execution_count": 1,
   "metadata": {},
   "outputs": [],
   "source": [
    "import numpy as np"
   ]
  },
  {
   "cell_type": "code",
   "execution_count": 1,
   "metadata": {},
   "outputs": [
    {
     "ename": "SyntaxError",
     "evalue": "invalid syntax (<ipython-input-1-81107d783da4>, line 21)",
     "output_type": "error",
     "traceback": [
      "\u001b[0;36m  File \u001b[0;32m\"<ipython-input-1-81107d783da4>\"\u001b[0;36m, line \u001b[0;32m21\u001b[0m\n\u001b[0;31m    def __init__(self, eta = 0.01, n_iter = 10)\u001b[0m\n\u001b[0m                                               ^\u001b[0m\n\u001b[0;31mSyntaxError\u001b[0m\u001b[0;31m:\u001b[0m invalid syntax\n"
     ]
    }
   ],
   "source": [
    "class Perceptron(object):\n",
    "    \"\"\" Perceptron classifier.\n",
    "    \n",
    "    Parameters\n",
    "    -----------\n",
    "    \n",
    "    eta: float\n",
    "        Learning rate (0.0 and 1.0)\n",
    "    n_iter: int\n",
    "        Passes over the training dataset.\n",
    "    \n",
    "    Attributes\n",
    "    -----------\n",
    "    w_: 1d-array\n",
    "        Weights after fitting.\n",
    "    errors_: list\n",
    "        Number of misclassifications (updates) in each epoch.\n",
    "    \n",
    "    \"\"\"\n",
    "    # init the perceptron parameters with a learning rate of 0.01\n",
    "    # and number of passes over the training dataset of 10\n",
    "    def __init__(self, eta = 0.01, n_iter = 10)\n",
    "        self.eta = eta\n",
    "        self.n_iter = n_iter\n",
    "    \n",
    "    def fit(self, X, y)\n",
    "        \"\"\" Fit training data.\n",
    "        \n",
    "        Parameters\n",
    "        -----------\n",
    "        \n",
    "        \"\"\"\n",
    "        "
   ]
  },
  {
   "cell_type": "markdown",
   "metadata": {},
   "source": [
    "Note.\n",
    "\n",
    "### Learning rate\n",
    "Learning rate is a hyper-parameter that controls how much we are adjusting the weights of our network with respect the loss gradient.\n",
    "#### Alternative definition:\n",
    "The amount that the weights are updated during training is referred to as the step size or the “learning rate.” Specifically, the learning rate is a configurable hyperparameter used in the training of neural networks that has a small positive value, often in the range between 0.0 and 1.0."
   ]
  }
 ],
 "metadata": {
  "kernelspec": {
   "display_name": "Python 3",
   "language": "python",
   "name": "python3"
  },
  "language_info": {
   "codemirror_mode": {
    "name": "ipython",
    "version": 3
   },
   "file_extension": ".py",
   "mimetype": "text/x-python",
   "name": "python",
   "nbconvert_exporter": "python",
   "pygments_lexer": "ipython3",
   "version": "3.7.5"
  }
 },
 "nbformat": 4,
 "nbformat_minor": 2
}

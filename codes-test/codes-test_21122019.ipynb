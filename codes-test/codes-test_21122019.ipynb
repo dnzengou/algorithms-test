{
 "cells": [
  {
   "cell_type": "markdown",
   "metadata": {},
   "source": [
    "Creatve Common  (c) 2019 [desireyavro](desireyavro.com) <br/>\n",
    "algorithms-test/codes-test <br/>\n",
    "Description: This notebook gathers answers from the algorithms and web dev tests<br/><br>\n"
   ]
  },
  {
   "cell_type": "markdown",
   "metadata": {},
   "source": []
  },
  {
   "cell_type": "markdown",
   "metadata": {},
   "source": [
    "# Test"
   ]
  },
  {
   "cell_type": "markdown",
   "metadata": {},
   "source": [
    "## Instructions"
   ]
  },
  {
   "cell_type": "markdown",
   "metadata": {},
   "source": [
    "### Programmation\n",
    "\n",
    "1. Écrivez une fonction pour inverser une chaîne de caractères.\n",
    "2. Écrivez une fonction pour calculer le N ième nombre de Fibonnaci.\n",
    "3. Affichez à l’écran la table de multiplication jusqu’à 12 x 12.\n",
    "4. Écrivez une fonction qui additionne les entiers provenant d’un fichier texte, un entier par ligne.\n",
    "5. Écrivez une fonction qui affiche les nombres impairs de 1 à 99.\n",
    "6. Trouvez le plus grand entier dans un vecteur d’entiers.\n",
    "7. Formatez une valeur RGB (trois nombres d’un octet) en chaîne hexadécimale de 6 chiffres.\n",
    "8. Écrivez un programme qui affiche les nombres de 1 à 100. Pour les multiples de 3, afficher “Flash” plutôt que le nombre. Pour les multiples de 5, remplacer le nombre par “Thunder”. Enfin, pour les multiples de 3 et de 5, veuillez remplacer le nombre par “FlashThunder”.\n",
    "9. Considérant le contexte d’une application IoT (internet des objets), veuillez rédiger un micro-programme Javascript (un ou plusieurs fonctions) permettant de recevoir de manière asynchrone les données d’un capteur de température et de les afficher en sortie aux cinq (5) secondes. La fonction d'interrogation de la température est au format function getTemp(callback) { //lit la température du capteur et, une fois récupérée, //appelle la callback avec la valeur.}\n",
    "\n",
    "\n",
    "### Conception orientée-objet\n",
    "\n",
    "1. Concevez un ensemble de carte à jouer qui peut être utilisé pour différents jeux de cartes.\n",
    "2. Modélisez le monde animal en tant que classes, pour utilisation dans un programme de zoo virtuel.\n",
    "3. Créez un modèle objet pour représenter un système de fichiers (filesystem).\n",
    "4. Concevez une représentation orientée-objet qui modélise HTML.\n",
    "\n",
    "\n",
    "### Script et expressions régulières\n",
    "\n",
    "1. Considérant que nous avons 50 000 fichiers HTML contenus dans une arborescence Unix, sous un répertoire s’appelant ‘/website’. Nous avons deux (2) jours pour obtenir la liste des chemins de chaque fichier HTML contenant des numéros de téléphone, selon les deux (2) formats suivants: (999) 999-9999 and 999-999-9999. Écrivez l’algorithme qui permettra de fournir la liste.\n",
    "\n",
    "\n",
    "### Structures de données\n",
    "\n",
    "1. Quelles sont les structures de données les plus courantes, par exemple dans java.util?\n",
    "2. Quand serait-il approprié d’utiliser une liste chaînée plutôt qu’un vecteur?\n",
    "3. Pouvez-vous implémenter une Map avec un arbre? Avec une liste? Élaborez votre réponse.\n",
    "4. Décrivez comment afficher les noeuds d’un arbre par niveau (1er niveau, 2e niveau, 3e niveau, etc.).\n",
    "5. Quel est le pire cas de performance d’insertion dans un Hashtable? Dans un arbre binaire? Élaborez.\n",
    "6. Expliquez de quelle façon vous pouvez implémenter un file prioritaire (priority queue).\n",
    "\n",
    "\n",
    "### Bits et Octets\n",
    "\n",
    "1. Expliquez comment déterminer si le bit le plus significatif est affecté dans un octet.\n",
    "2. Écrivez une fonction qui compte le nombre de bits à 1 dans un entier qui pourrait, par exemple, avoir la signature int count1Bits(int x)\n",
    "3. Décrivez une fonction prenant en entrée un entier et qui retourne Vrai si le schéma de bits est le même à l’inverse (un palindrome). La fonction pourrait par exemple porter la signature bool isPalindrome(int x).\n",
    "\n",
    "\n",
    "### Design web\n",
    "\n",
    "1. Expliquez la pertinence et l’importance du système à 12 colonnes dans la conception d’applications web modernes.\n",
    "2. Dans CSS3, expliquez la différence entre utiliser max-width et max-device-width dans les media queries.UX\n",
    "1. Nommez trois (3) éléments importants à considérer en termes de UX lors de la conception d’un formulaire de paiement en ligne par carte de crédit. Élaborez.\n",
    "2. Veuillez recommander deux (2) améliorations UX à cette interface mobile.\n",
    "\n",
    "\n",
    "### Développement web\n",
    "\n",
    "1. Expliquez, en vos propres mots, ce qu’est une application Javascript et son fonctionnement.\n",
    "2. Que sont node.js, ember.js et angular.js, pour en nommer que quelques-uns?\n",
    "3. Quel est l’avantage principal d’utiliser JSON dans une application web? Expliquez pourquoi.\n",
    "\n",
    "\n",
    "----------------------------------------------------------------------------------------------\n"
   ]
  },
  {
   "cell_type": "code",
   "execution_count": 35,
   "metadata": {},
   "outputs": [
    {
     "name": "stdout",
     "output_type": "stream",
     "text": [
      "desireyavro \n",
      "last updated: 2019-12-22 \n",
      "\n",
      "numpy 1.15.4\n",
      "pandas 0.25.3\n",
      "matplotlib 3.0.2\n"
     ]
    }
   ],
   "source": [
    "#!pip install appmode\n",
    "#!pip install watermark\n",
    "%load_ext watermark\n",
    "%watermark -a 'desireyavro' -u -d -p numpy,pandas,matplotlib"
   ]
  },
  {
   "cell_type": "markdown",
   "metadata": {},
   "source": [
    "## Programmation"
   ]
  },
  {
   "cell_type": "code",
   "execution_count": 32,
   "metadata": {},
   "outputs": [
    {
     "name": "stdout",
     "output_type": "stream",
     "text": [
      "Ecrivez une chaîne de caractères à inverser: bonjour\n",
      "La chaîne de caractères inversée est: ruojnob\n"
     ]
    }
   ],
   "source": [
    "# 1. Fonction pour inverser une chaîne de caractères\n",
    "\n",
    "c = input(\"Ecrivez une chaîne de caractères à inverser: \") #chaine a inversée\n",
    "inv = \"\"#chaine inversée\n",
    " \n",
    "for lettre in reversed(c): #utilisation de générateur avec lequel on calcul\n",
    "    # les valeurs au fur et à mesure et on renvoie à chaque fois la valeur\n",
    "    inv += lettre\n",
    "     \n",
    "print (\"La chaîne de caractères inversée est: \" + inv)\n"
   ]
  },
  {
   "cell_type": "code",
   "execution_count": 33,
   "metadata": {},
   "outputs": [
    {
     "name": "stdout",
     "output_type": "stream",
     "text": [
      "La chaîne de caractères à inverser est: Bonjour\n",
      "La chaîne de caractères inversée est:ruojnob\n"
     ]
    }
   ],
   "source": [
    "### Example\n",
    "c = \"Bonjour\"\n",
    "print(\"La chaîne de caractères à inverser est: \", end =\"\")\n",
    "print(c)\n",
    "\n",
    "print(\"La chaîne de caractères inversée est:\", end =\"\")\n",
    "print(inv)"
   ]
  },
  {
   "cell_type": "code",
   "execution_count": 76,
   "metadata": {},
   "outputs": [
    {
     "name": "stdout",
     "output_type": "stream",
     "text": [
      "Entrez un nombre: 6\n",
      "le 6 ieme nombre de Fibonacci est: \n",
      "8\n"
     ]
    }
   ],
   "source": [
    "# 2. Fonction pour calculer le N ième nombre de Fibonnaci.\n",
    "\n",
    "n = input(\"Entrez un nombre: \")\n",
    "try:\n",
    "    n= int(n)\n",
    "    #print(n, 'est un nombre, parfait.')\n",
    "    def Fib(n):\n",
    "        if n==0:\n",
    "            return 0\n",
    "        if n==1:\n",
    "            return 1\n",
    "        else:\n",
    "            return Fib(n-1)+Fib(n-2)\n",
    "    print (\"le\", n,\"ieme nombre de Fibonacci est: \")\n",
    "    print(Fib(n))\n",
    "    \n",
    "except:\n",
    "    print('Erreur. Rentrez de nouveau un chiffre; Vous avez entré un élément de type', type(n))\n",
    "\n",
    "\n"
   ]
  },
  {
   "cell_type": "code",
   "execution_count": 130,
   "metadata": {},
   "outputs": [
    {
     "name": "stdout",
     "output_type": "stream",
     "text": [
      "Entrez un nombre: 5\n",
      "Table de multiplication jusque 12x 5 est \n",
      "0 * 5 = 0\n",
      "1 * 5 = 5\n",
      "2 * 5 = 10\n",
      "3 * 5 = 15\n",
      "4 * 5 = 20\n",
      "5 * 5 = 25\n",
      "6 * 5 = 30\n",
      "7 * 5 = 35\n",
      "8 * 5 = 40\n",
      "9 * 5 = 45\n",
      "10 * 5 = 50\n",
      "11 * 5 = 55\n",
      "12 * 5 = 60\n",
      "Table de multiplication: None\n"
     ]
    }
   ],
   "source": [
    "#  3. Table de multiplication jusqu’à 12 x 12\n",
    "\n",
    "n = int(input(\"Entrez un nombre: \"))\n",
    "print(\"Table de multiplication jusque 12x\",n, \"est \")\n",
    "\n",
    "def mult(n):\n",
    "    for i in range(0, 13):\n",
    "        print(i, \"*\", n, \"=\", i*n)\n",
    "        #return i*n\n",
    "\n",
    "print(\"Table de multiplication:\", mult(n))\n",
    "    \n"
   ]
  },
  {
   "cell_type": "code",
   "execution_count": 159,
   "metadata": {},
   "outputs": [
    {
     "name": "stdout",
     "output_type": "stream",
     "text": [
      "45,\n",
      " : pas un chiffre !\n",
      "\n",
      "Somme des chiffres entiers provenant du fichier: 12843\n"
     ]
    }
   ],
   "source": [
    "# 4. Fonction qui additionne les entiers provenant d’un fichier texte, un entier par ligne.\n",
    "\n",
    "filepath = 'codes-data/fichier.txt'\n",
    "cnt = 1\n",
    "total = 0\n",
    "with open(filepath) as fp:\n",
    "    li = fp.readline()\n",
    "    for li in fp:\n",
    "        try:\n",
    "            nb = int(li)\n",
    "            total += nb\n",
    "        except ValueError:\n",
    "            print('{} : pas un chiffre !\\n'.format(li))\n",
    "\n",
    "print('Somme des chiffres entiers provenant du fichier: {}'.format(total))"
   ]
  },
  {
   "cell_type": "code",
   "execution_count": 170,
   "metadata": {},
   "outputs": [
    {
     "name": "stdout",
     "output_type": "stream",
     "text": [
      "1\n",
      "3\n",
      "5\n",
      "7\n",
      "9\n",
      "11\n",
      "13\n",
      "15\n",
      "17\n",
      "19\n",
      "21\n",
      "23\n",
      "25\n",
      "27\n",
      "29\n",
      "31\n",
      "33\n",
      "35\n",
      "37\n",
      "39\n",
      "41\n",
      "43\n",
      "45\n",
      "47\n",
      "49\n",
      "51\n",
      "53\n",
      "55\n",
      "57\n",
      "59\n",
      "61\n",
      "63\n",
      "65\n",
      "67\n",
      "69\n",
      "71\n",
      "73\n",
      "75\n",
      "77\n",
      "79\n",
      "81\n",
      "83\n",
      "85\n",
      "87\n",
      "89\n",
      "91\n",
      "93\n",
      "95\n",
      "97\n"
     ]
    }
   ],
   "source": [
    "# 5. Écrivez une fonction qui affiche les nombres impairs de 1 à 99 python\n",
    "\n",
    "\n",
    "for nb in range(1,99):\n",
    "    if(nb % 2 != 0):\n",
    "        print(\"{0}\".format(nb))"
   ]
  },
  {
   "cell_type": "code",
   "execution_count": 181,
   "metadata": {},
   "outputs": [
    {
     "name": "stdout",
     "output_type": "stream",
     "text": [
      "Entrez le nombre d'element que contiendra la liste d'entiers: 3\n",
      "Entrer les chiffres: 23 45 67\n"
     ]
    },
    {
     "ename": "ValueError",
     "evalue": "invalid literal for int() with base 10: '23 45 67'",
     "output_type": "error",
     "traceback": [
      "\u001b[0;31m---------------------------------------------------------------------------\u001b[0m",
      "\u001b[0;31mValueError\u001b[0m                                Traceback (most recent call last)",
      "\u001b[0;32m<ipython-input-181-b9958fa408e6>\u001b[0m in \u001b[0;36m<module>\u001b[0;34m\u001b[0m\n\u001b[1;32m     14\u001b[0m \u001b[0;31m#l = [28, 789, 0, 4, 534, 65]\u001b[0m\u001b[0;34m\u001b[0m\u001b[0;34m\u001b[0m\u001b[0;34m\u001b[0m\u001b[0m\n\u001b[1;32m     15\u001b[0m \u001b[0;34m\u001b[0m\u001b[0m\n\u001b[0;32m---> 16\u001b[0;31m \u001b[0mprint\u001b[0m\u001b[0;34m(\u001b[0m\u001b[0;34m\"Le plus grand entier est:\"\u001b[0m\u001b[0;34m,\u001b[0m \u001b[0mmaxInt\u001b[0m\u001b[0;34m(\u001b[0m\u001b[0mvec\u001b[0m\u001b[0;34m)\u001b[0m\u001b[0;34m)\u001b[0m\u001b[0;34m\u001b[0m\u001b[0;34m\u001b[0m\u001b[0m\n\u001b[0m\u001b[1;32m     17\u001b[0m \u001b[0;31m#print(\"Le plus grand entier est:\", max(l))\u001b[0m\u001b[0;34m\u001b[0m\u001b[0;34m\u001b[0m\u001b[0;34m\u001b[0m\u001b[0m\n",
      "\u001b[0;32m<ipython-input-181-b9958fa408e6>\u001b[0m in \u001b[0;36mmaxInt\u001b[0;34m(vec)\u001b[0m\n\u001b[1;32m      7\u001b[0m \u001b[0;32mdef\u001b[0m \u001b[0mmaxInt\u001b[0m\u001b[0;34m(\u001b[0m\u001b[0mvec\u001b[0m\u001b[0;34m)\u001b[0m\u001b[0;34m:\u001b[0m\u001b[0;34m\u001b[0m\u001b[0;34m\u001b[0m\u001b[0m\n\u001b[1;32m      8\u001b[0m     \u001b[0;32mfor\u001b[0m \u001b[0mi\u001b[0m \u001b[0;32min\u001b[0m \u001b[0mrange\u001b[0m\u001b[0;34m(\u001b[0m\u001b[0;36m1\u001b[0m\u001b[0;34m,\u001b[0m \u001b[0mn\u001b[0m \u001b[0;34m+\u001b[0m \u001b[0;36m1\u001b[0m\u001b[0;34m)\u001b[0m\u001b[0;34m:\u001b[0m\u001b[0;34m\u001b[0m\u001b[0;34m\u001b[0m\u001b[0m\n\u001b[0;32m----> 9\u001b[0;31m         \u001b[0mnb\u001b[0m \u001b[0;34m=\u001b[0m \u001b[0mint\u001b[0m\u001b[0;34m(\u001b[0m\u001b[0minput\u001b[0m\u001b[0;34m(\u001b[0m\u001b[0;34m\"Entrer les chiffres: \"\u001b[0m\u001b[0;34m)\u001b[0m\u001b[0;34m)\u001b[0m\u001b[0;34m\u001b[0m\u001b[0;34m\u001b[0m\u001b[0m\n\u001b[0m\u001b[1;32m     10\u001b[0m         \u001b[0mvec\u001b[0m\u001b[0;34m.\u001b[0m\u001b[0mappend\u001b[0m\u001b[0;34m(\u001b[0m\u001b[0mnb\u001b[0m\u001b[0;34m)\u001b[0m\u001b[0;34m\u001b[0m\u001b[0;34m\u001b[0m\u001b[0m\n\u001b[1;32m     11\u001b[0m         \u001b[0;32mreturn\u001b[0m \u001b[0mmax\u001b[0m\u001b[0;34m(\u001b[0m\u001b[0mvec\u001b[0m\u001b[0;34m)\u001b[0m\u001b[0;34m\u001b[0m\u001b[0;34m\u001b[0m\u001b[0m\n",
      "\u001b[0;31mValueError\u001b[0m: invalid literal for int() with base 10: '23 45 67'"
     ]
    }
   ],
   "source": [
    "# 6. Trouvez le plus grand entier dans un vecteur d’entiers.\n",
    "\n",
    "# creating empty list \n",
    "vec = [] \n",
    "n = int(input(\"Entrez le nombre d'element que contiendra la liste d'entiers: \"))\n",
    "\n",
    "def maxInt(vec):\n",
    "    for i in range(1, n + 1): \n",
    "        nb = int(input(\"Entrer les chiffres: \")) \n",
    "        vec.append(nb)\n",
    "        return max(vec)\n",
    "# Ex.\n",
    "# liste de nombres\n",
    "#l = [28, 789, 0, 4, 534, 65] \n",
    "\n",
    "print(\"Le plus grand entier est:\", maxInt(vec)) \n",
    "#print(\"Le plus grand entier est:\", max(l)) "
   ]
  },
  {
   "cell_type": "code",
   "execution_count": null,
   "metadata": {},
   "outputs": [],
   "source": [
    "#7. Formatez une valeur RGB (trois nombres d’un octet) en chaîne hexadécimale de 6 chiffres.\n",
    "\n",
    "rgb = (0,128, 64)\n",
    "f'#{rgb[0]:02x}{rgb[1]:02x}{rgb[2]:02x}'"
   ]
  },
  {
   "cell_type": "code",
   "execution_count": null,
   "metadata": {},
   "outputs": [],
   "source": []
  },
  {
   "cell_type": "code",
   "execution_count": 1,
   "metadata": {},
   "outputs": [],
   "source": [
    "import numpy as np"
   ]
  },
  {
   "cell_type": "code",
   "execution_count": 1,
   "metadata": {},
   "outputs": [
    {
     "ename": "SyntaxError",
     "evalue": "invalid syntax (<ipython-input-1-81107d783da4>, line 21)",
     "output_type": "error",
     "traceback": [
      "\u001b[0;36m  File \u001b[0;32m\"<ipython-input-1-81107d783da4>\"\u001b[0;36m, line \u001b[0;32m21\u001b[0m\n\u001b[0;31m    def __init__(self, eta = 0.01, n_iter = 10)\u001b[0m\n\u001b[0m                                               ^\u001b[0m\n\u001b[0;31mSyntaxError\u001b[0m\u001b[0;31m:\u001b[0m invalid syntax\n"
     ]
    }
   ],
   "source": [
    "class Perceptron(object):\n",
    "    \"\"\" Perceptron classifier.\n",
    "    \n",
    "    Parameters\n",
    "    -----------\n",
    "    \n",
    "    eta: float\n",
    "        Learning rate (0.0 and 1.0)\n",
    "    n_iter: int\n",
    "        Passes over the training dataset.\n",
    "    \n",
    "    Attributes\n",
    "    -----------\n",
    "    w_: 1d-array\n",
    "        Weights after fitting.\n",
    "    errors_: list\n",
    "        Number of misclassifications (updates) in each epoch.\n",
    "    \n",
    "    \"\"\"\n",
    "    # init the perceptron parameters with a learning rate of 0.01\n",
    "    # and number of passes over the training dataset of 10\n",
    "    def __init__(self, eta = 0.01, n_iter = 10)\n",
    "        self.eta = eta\n",
    "        self.n_iter = n_iter\n",
    "    \n",
    "    def fit(self, X, y)\n",
    "        \"\"\" Fit training data.\n",
    "        \n",
    "        Parameters\n",
    "        -----------\n",
    "        \n",
    "        \"\"\"\n",
    "        "
   ]
  },
  {
   "cell_type": "markdown",
   "metadata": {},
   "source": [
    "Note.\n",
    "\n",
    "### Learning rate\n",
    "Learning rate is a hyper-parameter that controls how much we are adjusting the weights of our network with respect the loss gradient.\n",
    "#### Alternative definition:\n",
    "The amount that the weights are updated during training is referred to as the step size or the “learning rate.” Specifically, the learning rate is a configurable hyperparameter used in the training of neural networks that has a small positive value, often in the range between 0.0 and 1.0."
   ]
  }
 ],
 "metadata": {
  "kernelspec": {
   "display_name": "Python 3",
   "language": "python",
   "name": "python3"
  }
 },
 "nbformat": 4,
 "nbformat_minor": 2
}
